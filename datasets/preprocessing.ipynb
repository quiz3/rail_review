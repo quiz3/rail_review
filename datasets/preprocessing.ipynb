{
 "cells": [
  {
   "cell_type": "code",
   "execution_count": 404,
   "metadata": {},
   "outputs": [],
   "source": [
    "import pandas as pd\n",
    "import numpy as np\n",
    "import os\n",
    "import json\n",
    "import re\n",
    "import googlemaps\n",
    "from tqdm import tqdm"
   ]
  },
  {
   "attachments": {},
   "cell_type": "markdown",
   "metadata": {},
   "source": [
    "# Delhi dataset"
   ]
  },
  {
   "cell_type": "code",
   "execution_count": 378,
   "metadata": {},
   "outputs": [
    {
     "data": {
      "text/html": [
       "<div>\n",
       "<style scoped>\n",
       "    .dataframe tbody tr th:only-of-type {\n",
       "        vertical-align: middle;\n",
       "    }\n",
       "\n",
       "    .dataframe tbody tr th {\n",
       "        vertical-align: top;\n",
       "    }\n",
       "\n",
       "    .dataframe thead th {\n",
       "        text-align: right;\n",
       "    }\n",
       "</style>\n",
       "<table border=\"1\" class=\"dataframe\">\n",
       "  <thead>\n",
       "    <tr style=\"text-align: right;\">\n",
       "      <th></th>\n",
       "      <th>Station Name</th>\n",
       "      <th>Line</th>\n",
       "      <th>x</th>\n",
       "      <th>y</th>\n",
       "    </tr>\n",
       "  </thead>\n",
       "  <tbody>\n",
       "    <tr>\n",
       "      <th>0</th>\n",
       "      <td>Botanical Garden</td>\n",
       "      <td>Magenta Line</td>\n",
       "      <td>77.334332</td>\n",
       "      <td>28.563896</td>\n",
       "    </tr>\n",
       "    <tr>\n",
       "      <th>1</th>\n",
       "      <td>Okhla Bird Sanctuary</td>\n",
       "      <td>Magenta Line</td>\n",
       "      <td>77.321635</td>\n",
       "      <td>28.552904</td>\n",
       "    </tr>\n",
       "    <tr>\n",
       "      <th>2</th>\n",
       "      <td>Kalindi Kunj</td>\n",
       "      <td>Magenta Line</td>\n",
       "      <td>77.310143</td>\n",
       "      <td>28.542813</td>\n",
       "    </tr>\n",
       "    <tr>\n",
       "      <th>3</th>\n",
       "      <td>Jasola Vihar Shaheen Bagh</td>\n",
       "      <td>Magenta Line</td>\n",
       "      <td>77.296629</td>\n",
       "      <td>28.546002</td>\n",
       "    </tr>\n",
       "    <tr>\n",
       "      <th>4</th>\n",
       "      <td>Okhla Vihar</td>\n",
       "      <td>Magenta Line</td>\n",
       "      <td>77.291930</td>\n",
       "      <td>28.561300</td>\n",
       "    </tr>\n",
       "  </tbody>\n",
       "</table>\n",
       "</div>"
      ],
      "text/plain": [
       "                Station Name          Line          x          y\n",
       "0           Botanical Garden  Magenta Line  77.334332  28.563896\n",
       "1       Okhla Bird Sanctuary  Magenta Line  77.321635  28.552904\n",
       "2               Kalindi Kunj  Magenta Line  77.310143  28.542813\n",
       "3  Jasola Vihar Shaheen Bagh  Magenta Line  77.296629  28.546002\n",
       "4                Okhla Vihar  Magenta Line  77.291930  28.561300"
      ]
     },
     "execution_count": 378,
     "metadata": {},
     "output_type": "execute_result"
    }
   ],
   "source": [
    "line_file_paths = [os.path.join(\"datasets/Delhi\", path) for path in os.listdir(\"datasets/Delhi\")]\n",
    "\n",
    "try:\n",
    "    line_file_paths.remove(\".DS_Store\")\n",
    "except ValueError:\n",
    "    pass\n",
    "\n",
    "delhi_df_dict = {\n",
    "    \"Station Name\": [],\n",
    "    \"Line\": [],\n",
    "    \"x\": [],\n",
    "    \"y\": []\n",
    "}\n",
    "\n",
    "for line_file_name in line_file_paths:\n",
    "    line_df = pd.read_csv(line_file_name)\n",
    "    station_names = list(line_df[\"Station\"])\n",
    "    line_names = list(line_df[\"Line\"])\n",
    "    x_vals = np.array(list(line_df[\"Longitude\"]))\n",
    "    y_vals = np.array(list(line_df[\"Latitude\"]))\n",
    "    # x_max, y_max = x_vals.max(), y_vals.min()\n",
    "    # x_vals = list((x_vals - min_val) / (max_val - min_val))\n",
    "    # y_vals = list((y_vals - min_val) / (max_val - min_val))\n",
    "    # x_vals = x_vals / x_max\n",
    "    # y_vals = y_vals / y_max\n",
    "    delhi_df_dict[\"Station Name\"].extend(station_names)\n",
    "    delhi_df_dict[\"Line\"].extend(line_names)\n",
    "    delhi_df_dict[\"x\"].extend(x_vals)\n",
    "    delhi_df_dict[\"y\"].extend(y_vals)\n",
    "\n",
    "delhi_df = pd.DataFrame(delhi_df_dict)\n",
    "delhi_df.head()"
   ]
  },
  {
   "cell_type": "code",
   "execution_count": 379,
   "metadata": {},
   "outputs": [],
   "source": [
    "delhi_cmap = {\n",
    "    \"Magenta Line\": \"magenta\",\n",
    "    \"Pink Line\": \"pink\",\n",
    "    \"Red Line\": \"red\",\n",
    "    \"Orange Line\": \"orange\",\n",
    "    \"Green Line\": \"green\",\n",
    "    \"Blue Line\": \"blue\",\n",
    "    \"Yellow Line\": \"black\",\n",
    "    \"Violet Line\": \"violet\",\n",
    "    \"Grey Line\": \"grey\",\n",
    "    \"Green Line Branch\": \"olive\",\n",
    "    \"Blue Line Branch\": \"indigo\"\n",
    "}"
   ]
  },
  {
   "cell_type": "code",
   "execution_count": 380,
   "metadata": {},
   "outputs": [],
   "source": [
    "delhi_df.to_csv(\"final-datasets/delhi.csv\", index=False)"
   ]
  },
  {
   "cell_type": "code",
   "execution_count": 381,
   "metadata": {},
   "outputs": [],
   "source": [
    "delhi_df = pd.read_csv(\"final-datasets/delhi.csv\")\n",
    "output_dict = {}\n",
    "for line in delhi_cmap:\n",
    "    line_df = delhi_df[delhi_df[\"Line\"] == line]\n",
    "    output_dict[line] = {}\n",
    "    for i, station_data in line_df.iterrows():\n",
    "        name, line, x, y = station_data\n",
    "        output_dict[line][name] = {\"x\":x, \"y\":y}\n"
   ]
  },
  {
   "cell_type": "code",
   "execution_count": 382,
   "metadata": {},
   "outputs": [],
   "source": [
    "delhi_json = json.dumps(output_dict, indent=4)\n",
    "with open(\"final-json-datasets/delhi.json\", \"w\") as out:\n",
    "    out.write(delhi_json)"
   ]
  },
  {
   "attachments": {},
   "cell_type": "markdown",
   "metadata": {},
   "source": [
    "# Toronto dataset"
   ]
  },
  {
   "cell_type": "code",
   "execution_count": 383,
   "metadata": {},
   "outputs": [
    {
     "data": {
      "text/html": [
       "<div>\n",
       "<style scoped>\n",
       "    .dataframe tbody tr th:only-of-type {\n",
       "        vertical-align: middle;\n",
       "    }\n",
       "\n",
       "    .dataframe tbody tr th {\n",
       "        vertical-align: top;\n",
       "    }\n",
       "\n",
       "    .dataframe thead th {\n",
       "        text-align: right;\n",
       "    }\n",
       "</style>\n",
       "<table border=\"1\" class=\"dataframe\">\n",
       "  <thead>\n",
       "    <tr style=\"text-align: right;\">\n",
       "      <th></th>\n",
       "      <th>STATION</th>\n",
       "      <th>LINE</th>\n",
       "      <th>LINE2</th>\n",
       "      <th>x</th>\n",
       "      <th>y</th>\n",
       "    </tr>\n",
       "  </thead>\n",
       "  <tbody>\n",
       "    <tr>\n",
       "      <th>0</th>\n",
       "      <td>Kipling</td>\n",
       "      <td>Bloor-Danforth</td>\n",
       "      <td>NaN</td>\n",
       "      <td>618101.6130</td>\n",
       "      <td>4.832636e+06</td>\n",
       "    </tr>\n",
       "    <tr>\n",
       "      <th>1</th>\n",
       "      <td>Islington</td>\n",
       "      <td>Bloor-Danforth</td>\n",
       "      <td>NaN</td>\n",
       "      <td>618990.6128</td>\n",
       "      <td>4.833544e+06</td>\n",
       "    </tr>\n",
       "    <tr>\n",
       "      <th>2</th>\n",
       "      <td>Royal York</td>\n",
       "      <td>Bloor-Danforth</td>\n",
       "      <td>NaN</td>\n",
       "      <td>620056.4957</td>\n",
       "      <td>4.833883e+06</td>\n",
       "    </tr>\n",
       "    <tr>\n",
       "      <th>3</th>\n",
       "      <td>Old Mill</td>\n",
       "      <td>Bloor-Danforth</td>\n",
       "      <td>NaN</td>\n",
       "      <td>621361.6775</td>\n",
       "      <td>4.834112e+06</td>\n",
       "    </tr>\n",
       "    <tr>\n",
       "      <th>4</th>\n",
       "      <td>Jane</td>\n",
       "      <td>Bloor-Danforth</td>\n",
       "      <td>NaN</td>\n",
       "      <td>622220.6642</td>\n",
       "      <td>4.834091e+06</td>\n",
       "    </tr>\n",
       "  </tbody>\n",
       "</table>\n",
       "</div>"
      ],
      "text/plain": [
       "      STATION            LINE LINE2            x             y\n",
       "0     Kipling  Bloor-Danforth   NaN  618101.6130  4.832636e+06\n",
       "1   Islington  Bloor-Danforth   NaN  618990.6128  4.833544e+06\n",
       "2  Royal York  Bloor-Danforth   NaN  620056.4957  4.833883e+06\n",
       "3    Old Mill  Bloor-Danforth   NaN  621361.6775  4.834112e+06\n",
       "4        Jane  Bloor-Danforth   NaN  622220.6642  4.834091e+06"
      ]
     },
     "execution_count": 383,
     "metadata": {},
     "output_type": "execute_result"
    }
   ],
   "source": [
    "toronto_df = pd.read_csv(\"datasets/toronto.csv\")\n",
    "toronto_df.head()"
   ]
  },
  {
   "cell_type": "code",
   "execution_count": 384,
   "metadata": {},
   "outputs": [
    {
     "data": {
      "text/html": [
       "<div>\n",
       "<style scoped>\n",
       "    .dataframe tbody tr th:only-of-type {\n",
       "        vertical-align: middle;\n",
       "    }\n",
       "\n",
       "    .dataframe tbody tr th {\n",
       "        vertical-align: top;\n",
       "    }\n",
       "\n",
       "    .dataframe thead th {\n",
       "        text-align: right;\n",
       "    }\n",
       "</style>\n",
       "<table border=\"1\" class=\"dataframe\">\n",
       "  <thead>\n",
       "    <tr style=\"text-align: right;\">\n",
       "      <th></th>\n",
       "      <th>Station Name</th>\n",
       "      <th>Line</th>\n",
       "      <th>x</th>\n",
       "      <th>y</th>\n",
       "    </tr>\n",
       "  </thead>\n",
       "  <tbody>\n",
       "    <tr>\n",
       "      <th>0</th>\n",
       "      <td>Kipling</td>\n",
       "      <td>Bloor-Danforth</td>\n",
       "      <td>618101.6130</td>\n",
       "      <td>4.832636e+06</td>\n",
       "    </tr>\n",
       "    <tr>\n",
       "      <th>1</th>\n",
       "      <td>Islington</td>\n",
       "      <td>Bloor-Danforth</td>\n",
       "      <td>618990.6128</td>\n",
       "      <td>4.833544e+06</td>\n",
       "    </tr>\n",
       "    <tr>\n",
       "      <th>2</th>\n",
       "      <td>Royal York</td>\n",
       "      <td>Bloor-Danforth</td>\n",
       "      <td>620056.4957</td>\n",
       "      <td>4.833883e+06</td>\n",
       "    </tr>\n",
       "    <tr>\n",
       "      <th>3</th>\n",
       "      <td>Old Mill</td>\n",
       "      <td>Bloor-Danforth</td>\n",
       "      <td>621361.6775</td>\n",
       "      <td>4.834112e+06</td>\n",
       "    </tr>\n",
       "    <tr>\n",
       "      <th>4</th>\n",
       "      <td>Jane</td>\n",
       "      <td>Bloor-Danforth</td>\n",
       "      <td>622220.6642</td>\n",
       "      <td>4.834091e+06</td>\n",
       "    </tr>\n",
       "    <tr>\n",
       "      <th>...</th>\n",
       "      <td>...</td>\n",
       "      <td>...</td>\n",
       "      <td>...</td>\n",
       "      <td>...</td>\n",
       "    </tr>\n",
       "    <tr>\n",
       "      <th>63</th>\n",
       "      <td>Finch</td>\n",
       "      <td>Yonge-University-Spadina</td>\n",
       "      <td>627505.4022</td>\n",
       "      <td>4.848640e+06</td>\n",
       "    </tr>\n",
       "    <tr>\n",
       "      <th>64</th>\n",
       "      <td>Bayview</td>\n",
       "      <td>Sheppard</td>\n",
       "      <td>629762.5038</td>\n",
       "      <td>4.847231e+06</td>\n",
       "    </tr>\n",
       "    <tr>\n",
       "      <th>65</th>\n",
       "      <td>Bessarion</td>\n",
       "      <td>Sheppard</td>\n",
       "      <td>630655.0802</td>\n",
       "      <td>4.847518e+06</td>\n",
       "    </tr>\n",
       "    <tr>\n",
       "      <th>66</th>\n",
       "      <td>Leslie</td>\n",
       "      <td>Sheppard</td>\n",
       "      <td>631441.7581</td>\n",
       "      <td>4.847727e+06</td>\n",
       "    </tr>\n",
       "    <tr>\n",
       "      <th>67</th>\n",
       "      <td>Don Mills</td>\n",
       "      <td>Sheppard</td>\n",
       "      <td>633087.1372</td>\n",
       "      <td>4.848247e+06</td>\n",
       "    </tr>\n",
       "  </tbody>\n",
       "</table>\n",
       "<p>68 rows × 4 columns</p>\n",
       "</div>"
      ],
      "text/plain": [
       "   Station Name                      Line            x             y\n",
       "0       Kipling            Bloor-Danforth  618101.6130  4.832636e+06\n",
       "1     Islington            Bloor-Danforth  618990.6128  4.833544e+06\n",
       "2    Royal York            Bloor-Danforth  620056.4957  4.833883e+06\n",
       "3      Old Mill            Bloor-Danforth  621361.6775  4.834112e+06\n",
       "4          Jane            Bloor-Danforth  622220.6642  4.834091e+06\n",
       "..          ...                       ...          ...           ...\n",
       "63        Finch  Yonge-University-Spadina  627505.4022  4.848640e+06\n",
       "64      Bayview                  Sheppard  629762.5038  4.847231e+06\n",
       "65    Bessarion                  Sheppard  630655.0802  4.847518e+06\n",
       "66       Leslie                  Sheppard  631441.7581  4.847727e+06\n",
       "67    Don Mills                  Sheppard  633087.1372  4.848247e+06\n",
       "\n",
       "[68 rows x 4 columns]"
      ]
     },
     "execution_count": 384,
     "metadata": {},
     "output_type": "execute_result"
    }
   ],
   "source": [
    "toronto_df_dict = {\n",
    "    \"Station Name\": [],\n",
    "    \"Line\": [],\n",
    "    \"x\": [],\n",
    "    \"y\": []\n",
    "}\n",
    "\n",
    "for i, station_data in toronto_df.iterrows():\n",
    "    name, line1, line2, x, y = station_data\n",
    "    toronto_df_dict[\"Station Name\"].append(name)\n",
    "    toronto_df_dict[\"Line\"].append(line1)\n",
    "    toronto_df_dict[\"x\"].append(x)\n",
    "    toronto_df_dict[\"y\"].append(y)\n",
    "\n",
    "    if isinstance(line2, str):\n",
    "        toronto_df_dict[\"Station Name\"].append(name)\n",
    "        toronto_df_dict[\"Line\"].append(line2)\n",
    "        toronto_df_dict[\"x\"].append(x)\n",
    "        toronto_df_dict[\"y\"].append(y)\n",
    "\n",
    "toronto_df = pd.DataFrame(toronto_df_dict)\n",
    "toronto_df.head(68)"
   ]
  },
  {
   "cell_type": "code",
   "execution_count": 385,
   "metadata": {},
   "outputs": [],
   "source": [
    "toronto_df.to_csv(\"sample.csv\")"
   ]
  },
  {
   "cell_type": "code",
   "execution_count": 386,
   "metadata": {},
   "outputs": [],
   "source": [
    "toronto_df = pd.read_csv(\"final-datasets/toronto.csv\")"
   ]
  },
  {
   "cell_type": "code",
   "execution_count": 387,
   "metadata": {},
   "outputs": [],
   "source": [
    "toronto_df = pd.read_csv(\"final-datasets/toronto.csv\")\n",
    "\n",
    "output_dict = {}\n",
    "for line in toronto_cmap:\n",
    "    line_df = toronto_df[toronto_df[\"Line\"] == line]\n",
    "    output_dict[line] = {}\n",
    "    for i, station_data in line_df.iterrows():\n",
    "        name, line, x, y = station_data\n",
    "        output_dict[line][name] = {\"x\":x/100000, \"y\":y/100000}\n",
    "\n",
    "\n",
    "toronto_json = json.dumps(output_dict, indent=4)\n",
    "with open(\"final-json-datasets/toronto.json\", \"w\") as out:\n",
    "    out.write(toronto_json)"
   ]
  },
  {
   "attachments": {},
   "cell_type": "markdown",
   "metadata": {},
   "source": [
    "# Singapore dataset"
   ]
  },
  {
   "cell_type": "code",
   "execution_count": 388,
   "metadata": {},
   "outputs": [
    {
     "data": {
      "text/html": [
       "<div>\n",
       "<style scoped>\n",
       "    .dataframe tbody tr th:only-of-type {\n",
       "        vertical-align: middle;\n",
       "    }\n",
       "\n",
       "    .dataframe tbody tr th {\n",
       "        vertical-align: top;\n",
       "    }\n",
       "\n",
       "    .dataframe thead th {\n",
       "        text-align: right;\n",
       "    }\n",
       "</style>\n",
       "<table border=\"1\" class=\"dataframe\">\n",
       "  <thead>\n",
       "    <tr style=\"text-align: right;\">\n",
       "      <th></th>\n",
       "      <th>OBJECTID</th>\n",
       "      <th>STN_NAME</th>\n",
       "      <th>STN_NO</th>\n",
       "      <th>X</th>\n",
       "      <th>Y</th>\n",
       "      <th>Latitude</th>\n",
       "      <th>Longitude</th>\n",
       "      <th>COLOR</th>\n",
       "    </tr>\n",
       "  </thead>\n",
       "  <tbody>\n",
       "    <tr>\n",
       "      <th>0</th>\n",
       "      <td>12</td>\n",
       "      <td>ADMIRALTY MRT STATION</td>\n",
       "      <td>NS10</td>\n",
       "      <td>24402.1063</td>\n",
       "      <td>46918.1131</td>\n",
       "      <td>1.440585</td>\n",
       "      <td>103.800998</td>\n",
       "      <td>RED</td>\n",
       "    </tr>\n",
       "    <tr>\n",
       "      <th>1</th>\n",
       "      <td>16</td>\n",
       "      <td>ALJUNIED MRT STATION</td>\n",
       "      <td>EW9</td>\n",
       "      <td>33518.6049</td>\n",
       "      <td>33190.0020</td>\n",
       "      <td>1.316433</td>\n",
       "      <td>103.882893</td>\n",
       "      <td>GREEN</td>\n",
       "    </tr>\n",
       "    <tr>\n",
       "      <th>2</th>\n",
       "      <td>33</td>\n",
       "      <td>ANG MO KIO MRT STATION</td>\n",
       "      <td>NS16</td>\n",
       "      <td>29807.2655</td>\n",
       "      <td>39105.7720</td>\n",
       "      <td>1.369933</td>\n",
       "      <td>103.849553</td>\n",
       "      <td>RED</td>\n",
       "    </tr>\n",
       "    <tr>\n",
       "      <th>3</th>\n",
       "      <td>81</td>\n",
       "      <td>BAKAU LRT STATION</td>\n",
       "      <td>SE3</td>\n",
       "      <td>36026.0821</td>\n",
       "      <td>41113.8766</td>\n",
       "      <td>1.388093</td>\n",
       "      <td>103.905418</td>\n",
       "      <td>OTHERS</td>\n",
       "    </tr>\n",
       "    <tr>\n",
       "      <th>4</th>\n",
       "      <td>80</td>\n",
       "      <td>BANGKIT LRT STATION</td>\n",
       "      <td>BP9</td>\n",
       "      <td>21248.2460</td>\n",
       "      <td>40220.9693</td>\n",
       "      <td>1.380018</td>\n",
       "      <td>103.772667</td>\n",
       "      <td>OTHERS</td>\n",
       "    </tr>\n",
       "  </tbody>\n",
       "</table>\n",
       "</div>"
      ],
      "text/plain": [
       "   OBJECTID                STN_NAME STN_NO           X           Y  Latitude  \\\n",
       "0        12   ADMIRALTY MRT STATION   NS10  24402.1063  46918.1131  1.440585   \n",
       "1        16    ALJUNIED MRT STATION    EW9  33518.6049  33190.0020  1.316433   \n",
       "2        33  ANG MO KIO MRT STATION   NS16  29807.2655  39105.7720  1.369933   \n",
       "3        81       BAKAU LRT STATION    SE3  36026.0821  41113.8766  1.388093   \n",
       "4        80     BANGKIT LRT STATION    BP9  21248.2460  40220.9693  1.380018   \n",
       "\n",
       "    Longitude   COLOR  \n",
       "0  103.800998     RED  \n",
       "1  103.882893   GREEN  \n",
       "2  103.849553     RED  \n",
       "3  103.905418  OTHERS  \n",
       "4  103.772667  OTHERS  "
      ]
     },
     "execution_count": 388,
     "metadata": {},
     "output_type": "execute_result"
    }
   ],
   "source": [
    "sg_df = pd.read_csv(\"datasets/Singapore.csv\")\n",
    "sg_df = sg_df.drop(labels=[130, 146], axis=0)\n",
    "sg_df.head()"
   ]
  },
  {
   "cell_type": "code",
   "execution_count": 389,
   "metadata": {},
   "outputs": [],
   "source": [
    "line_names = np.unique(np.array(sg_df[\"COLOR\"]))\n",
    "line_names = line_names[line_names != \"OTHERS\"]\n",
    "order = [int(i[2:]) for i in sg_df[\"STN_NO\"]]\n",
    "sg_df[\"order\"] = order"
   ]
  },
  {
   "cell_type": "code",
   "execution_count": 390,
   "metadata": {},
   "outputs": [],
   "source": [
    "output_dict = {}\n",
    "for line_name in line_names:\n",
    "    output_dict[line_name.title()] = {}\n",
    "    line_df = sg_df[sg_df[\"COLOR\"] == line_name].sort_values(\"order\")\n",
    "    for i, station_data in line_df.iterrows():\n",
    "        name, x, y = station_data[\"STN_NAME\"], station_data[\"Longitude\"], station_data[\"Latitude\"]\n",
    "        output_dict[line_name.title()][name.title()] = {\"x\":x, \"y\":y}\n",
    "\n",
    "sg_json = json.dumps(output_dict, indent=4)\n",
    "with open(\"final-json-datasets/singapore.json\", \"w\") as out:\n",
    "    out.write(sg_json)"
   ]
  },
  {
   "attachments": {},
   "cell_type": "markdown",
   "metadata": {},
   "source": [
    "# London dataset"
   ]
  },
  {
   "cell_type": "code",
   "execution_count": 391,
   "metadata": {},
   "outputs": [],
   "source": [
    "london_file = open(\"datasets/London.json\", \"r\")\n",
    "london_json = json.load(london_file)\n",
    "london_lines = london_json[\"lines\"]\n",
    "london_stations = london_json[\"stations\"]"
   ]
  },
  {
   "cell_type": "code",
   "execution_count": 473,
   "metadata": {},
   "outputs": [],
   "source": [
    "output_dict = {}\n",
    "for line in london_lines:\n",
    "    line_name = line[\"name\"]\n",
    "    if line_name not in output_dict:\n",
    "        output_dict[line_name] = {}\n",
    "    else:\n",
    "        i = 2\n",
    "        while line_name + str(i) in output_dict:\n",
    "            i += 1\n",
    "        line_name = line_name + str(i)\n",
    "        output_dict[line_name] = {}\n",
    "    stations = line[\"nodes\"]\n",
    "    for station in stations:\n",
    "        if \"name\" in station:\n",
    "            station_name = station[\"name\"]\n",
    "            if station_name not in london_stations:\n",
    "                station_name = re.sub(r\"(\\w)([A-Z])\", r\"\\1 \\2\", station_name)\n",
    "            x, y = london_stations[station_name][\"position\"][\"lon\"], london_stations[station_name][\"position\"][\"lat\"]\n",
    "            # x, y = station[\"coords\"]\n",
    "\n",
    "            output_dict[line_name][station_name] = {\"x\":x, \"y\":y}    "
   ]
  },
  {
   "cell_type": "code",
   "execution_count": 474,
   "metadata": {},
   "outputs": [],
   "source": [
    "london_final_json = json.dumps(output_dict, indent=4)\n",
    "with open(\"final-json-datasets/london.json\", \"w\") as out:\n",
    "    out.write(london_final_json)"
   ]
  },
  {
   "attachments": {},
   "cell_type": "markdown",
   "metadata": {},
   "source": [
    "# New York dataset"
   ]
  },
  {
   "cell_type": "code",
   "execution_count": 394,
   "metadata": {},
   "outputs": [
    {
     "data": {
      "text/html": [
       "<div>\n",
       "<style scoped>\n",
       "    .dataframe tbody tr th:only-of-type {\n",
       "        vertical-align: middle;\n",
       "    }\n",
       "\n",
       "    .dataframe tbody tr th {\n",
       "        vertical-align: top;\n",
       "    }\n",
       "\n",
       "    .dataframe thead th {\n",
       "        text-align: right;\n",
       "    }\n",
       "</style>\n",
       "<table border=\"1\" class=\"dataframe\">\n",
       "  <thead>\n",
       "    <tr style=\"text-align: right;\">\n",
       "      <th></th>\n",
       "      <th>Line</th>\n",
       "      <th>Station Name</th>\n",
       "      <th>Station Latitude</th>\n",
       "      <th>Station Longitude</th>\n",
       "    </tr>\n",
       "  </thead>\n",
       "  <tbody>\n",
       "    <tr>\n",
       "      <th>0</th>\n",
       "      <td>Brighton</td>\n",
       "      <td>West 8th St</td>\n",
       "      <td>40.576127</td>\n",
       "      <td>-73.975939</td>\n",
       "    </tr>\n",
       "    <tr>\n",
       "      <th>2</th>\n",
       "      <td>4 Avenue</td>\n",
       "      <td>25th St</td>\n",
       "      <td>40.660397</td>\n",
       "      <td>-73.998091</td>\n",
       "    </tr>\n",
       "    <tr>\n",
       "      <th>4</th>\n",
       "      <td>4 Avenue</td>\n",
       "      <td>36th St</td>\n",
       "      <td>40.655144</td>\n",
       "      <td>-74.003549</td>\n",
       "    </tr>\n",
       "    <tr>\n",
       "      <th>7</th>\n",
       "      <td>4 Avenue</td>\n",
       "      <td>45th St</td>\n",
       "      <td>40.648939</td>\n",
       "      <td>-74.010006</td>\n",
       "    </tr>\n",
       "    <tr>\n",
       "      <th>11</th>\n",
       "      <td>4 Avenue</td>\n",
       "      <td>53rd St</td>\n",
       "      <td>40.645069</td>\n",
       "      <td>-74.014034</td>\n",
       "    </tr>\n",
       "  </tbody>\n",
       "</table>\n",
       "</div>"
      ],
      "text/plain": [
       "        Line Station Name  Station Latitude  Station Longitude\n",
       "0   Brighton  West 8th St         40.576127         -73.975939\n",
       "2   4 Avenue      25th St         40.660397         -73.998091\n",
       "4   4 Avenue      36th St         40.655144         -74.003549\n",
       "7   4 Avenue      45th St         40.648939         -74.010006\n",
       "11  4 Avenue      53rd St         40.645069         -74.014034"
      ]
     },
     "execution_count": 394,
     "metadata": {},
     "output_type": "execute_result"
    }
   ],
   "source": [
    "ny_df = pd.read_csv(\"datasets/New-York.csv\")\n",
    "to_keep = [\"Line\", \"Station Name\", \"Station Latitude\", \"Station Longitude\"]\n",
    "to_remove = list(ny_df.columns)\n",
    "for col in to_keep:\n",
    "    to_remove.remove(col)\n",
    "ny_df = ny_df.drop(columns=to_remove).drop_duplicates()\n",
    "ny_df.head()"
   ]
  },
  {
   "cell_type": "code",
   "execution_count": 395,
   "metadata": {},
   "outputs": [],
   "source": [
    "lines = np.unique(np.array(ny_df[\"Line\"]))\n",
    "output_dict = {}\n",
    "\n",
    "for line in lines:\n",
    "    output_dict[line] = {}\n",
    "    line_df = ny_df[ny_df[\"Line\"] == line]\n",
    "    for i, station_data in line_df.iterrows():\n",
    "        line, name, y, x = station_data\n",
    "        output_dict[line][name] = {\"x\":x, \"y\":y}"
   ]
  },
  {
   "cell_type": "code",
   "execution_count": 396,
   "metadata": {},
   "outputs": [],
   "source": [
    "ny_json = json.dumps(output_dict, indent=4)\n",
    "with open(\"final-json-datasets/new-york.json\", \"w\") as out:\n",
    "    out.write(ny_json)"
   ]
  },
  {
   "attachments": {},
   "cell_type": "markdown",
   "metadata": {},
   "source": [
    "# Tokyo dataset"
   ]
  },
  {
   "cell_type": "code",
   "execution_count": 397,
   "metadata": {},
   "outputs": [
    {
     "data": {
      "text/html": [
       "<div>\n",
       "<style scoped>\n",
       "    .dataframe tbody tr th:only-of-type {\n",
       "        vertical-align: middle;\n",
       "    }\n",
       "\n",
       "    .dataframe tbody tr th {\n",
       "        vertical-align: top;\n",
       "    }\n",
       "\n",
       "    .dataframe thead th {\n",
       "        text-align: right;\n",
       "    }\n",
       "</style>\n",
       "<table border=\"1\" class=\"dataframe\">\n",
       "  <thead>\n",
       "    <tr style=\"text-align: right;\">\n",
       "      <th></th>\n",
       "      <th>station name</th>\n",
       "      <th>line</th>\n",
       "    </tr>\n",
       "  </thead>\n",
       "  <tbody>\n",
       "    <tr>\n",
       "      <th>0</th>\n",
       "      <td>渋谷駅</td>\n",
       "      <td>G</td>\n",
       "    </tr>\n",
       "    <tr>\n",
       "      <th>1</th>\n",
       "      <td>表参道駅</td>\n",
       "      <td>G</td>\n",
       "    </tr>\n",
       "    <tr>\n",
       "      <th>2</th>\n",
       "      <td>外苑前駅</td>\n",
       "      <td>G</td>\n",
       "    </tr>\n",
       "    <tr>\n",
       "      <th>3</th>\n",
       "      <td>青山一丁目駅</td>\n",
       "      <td>G</td>\n",
       "    </tr>\n",
       "    <tr>\n",
       "      <th>4</th>\n",
       "      <td>赤坂見附駅</td>\n",
       "      <td>G</td>\n",
       "    </tr>\n",
       "  </tbody>\n",
       "</table>\n",
       "</div>"
      ],
      "text/plain": [
       "  station name line\n",
       "0          渋谷駅    G\n",
       "1         表参道駅    G\n",
       "2         外苑前駅    G\n",
       "3       青山一丁目駅    G\n",
       "4        赤坂見附駅    G"
      ]
     },
     "execution_count": 397,
     "metadata": {},
     "output_type": "execute_result"
    }
   ],
   "source": [
    "tokyo_df = pd.read_csv(\"datasets/Tokyo.csv\")\n",
    "lines = [i[-1:] for i in tokyo_df[\"on_line\"]]\n",
    "tokyo_df[\"line\"] = lines\n",
    "tokyo_df = tokyo_df.drop(columns=[\"on_line\", \"station name english\", \"station\"])\n",
    "tokyo_df.head()"
   ]
  },
  {
   "cell_type": "code",
   "execution_count": 398,
   "metadata": {},
   "outputs": [],
   "source": [
    "gmaps = googlemaps.Client(\"\")"
   ]
  },
  {
   "cell_type": "code",
   "execution_count": 410,
   "metadata": {},
   "outputs": [
    {
     "name": "stderr",
     "output_type": "stream",
     "text": [
      "                                                 \r"
     ]
    }
   ],
   "source": [
    "geocode_dict = {}\n",
    "num_stations = len(tokyo_df)\n",
    "loader = tqdm(enumerate(tokyo_df[\"station name\"]), total=num_stations, leave=False, position=0)\n",
    "for i, name in loader:\n",
    "    code = gmaps.geocode(name)\n",
    "    geocode_dict[name] = code"
   ]
  },
  {
   "cell_type": "code",
   "execution_count": 419,
   "metadata": {},
   "outputs": [],
   "source": [
    "for key in geocode_dict:\n",
    "    if len(geocode_dict[key]) > 1:\n",
    "        print(key)"
   ]
  },
  {
   "cell_type": "code",
   "execution_count": 429,
   "metadata": {},
   "outputs": [],
   "source": [
    "output_dict = {}\n",
    "lines = np.unique(np.array(tokyo_df[\"line\"]))\n",
    "for line in lines:\n",
    "    line_df = tokyo_df[tokyo_df[\"line\"] == line]\n",
    "    output_dict[line] = {}\n",
    "    for station_name in line_df[\"station name\"]:\n",
    "        code = geocode_dict[station_name]\n",
    "        x, y = code[0][\"geometry\"][\"location\"][\"lng\"], code[0][\"geometry\"][\"location\"][\"lat\"]\n",
    "        if station_name == \"京橋駅\":\n",
    "            x, y = 139.77006608445632, 35.67685626991343\n",
    "        output_dict[line][station_name] = {\"x\":x, \"y\":y}"
   ]
  },
  {
   "cell_type": "code",
   "execution_count": 430,
   "metadata": {},
   "outputs": [],
   "source": [
    "tokyo_json = json.dumps(output_dict, indent=4)\n",
    "with open(\"final-json-datasets/tokyo.json\", \"w\") as out:\n",
    "    out.write(tokyo_json)"
   ]
  },
  {
   "attachments": {},
   "cell_type": "markdown",
   "metadata": {},
   "source": [
    "# Seoul dataset"
   ]
  },
  {
   "cell_type": "code",
   "execution_count": 462,
   "metadata": {},
   "outputs": [
    {
     "data": {
      "text/html": [
       "<div>\n",
       "<style scoped>\n",
       "    .dataframe tbody tr th:only-of-type {\n",
       "        vertical-align: middle;\n",
       "    }\n",
       "\n",
       "    .dataframe tbody tr th {\n",
       "        vertical-align: top;\n",
       "    }\n",
       "\n",
       "    .dataframe thead th {\n",
       "        text-align: right;\n",
       "    }\n",
       "</style>\n",
       "<table border=\"1\" class=\"dataframe\">\n",
       "  <thead>\n",
       "    <tr style=\"text-align: right;\">\n",
       "      <th></th>\n",
       "      <th>line</th>\n",
       "      <th>name</th>\n",
       "      <th>lat</th>\n",
       "      <th>lng</th>\n",
       "    </tr>\n",
       "  </thead>\n",
       "  <tbody>\n",
       "    <tr>\n",
       "      <th>0</th>\n",
       "      <td>01호선</td>\n",
       "      <td>소요산</td>\n",
       "      <td>37.948100</td>\n",
       "      <td>127.061034</td>\n",
       "    </tr>\n",
       "    <tr>\n",
       "      <th>1</th>\n",
       "      <td>01호선</td>\n",
       "      <td>동두천</td>\n",
       "      <td>37.927878</td>\n",
       "      <td>127.054790</td>\n",
       "    </tr>\n",
       "    <tr>\n",
       "      <th>2</th>\n",
       "      <td>01호선</td>\n",
       "      <td>보산</td>\n",
       "      <td>37.913702</td>\n",
       "      <td>127.057277</td>\n",
       "    </tr>\n",
       "    <tr>\n",
       "      <th>3</th>\n",
       "      <td>01호선</td>\n",
       "      <td>동두천중앙</td>\n",
       "      <td>37.901885</td>\n",
       "      <td>127.056482</td>\n",
       "    </tr>\n",
       "    <tr>\n",
       "      <th>4</th>\n",
       "      <td>01호선</td>\n",
       "      <td>지행</td>\n",
       "      <td>37.892334</td>\n",
       "      <td>127.055716</td>\n",
       "    </tr>\n",
       "  </tbody>\n",
       "</table>\n",
       "</div>"
      ],
      "text/plain": [
       "   line   name        lat         lng\n",
       "0  01호선    소요산  37.948100  127.061034\n",
       "1  01호선    동두천  37.927878  127.054790\n",
       "2  01호선     보산  37.913702  127.057277\n",
       "3  01호선  동두천중앙  37.901885  127.056482\n",
       "4  01호선     지행  37.892334  127.055716"
      ]
     },
     "execution_count": 462,
     "metadata": {},
     "output_type": "execute_result"
    }
   ],
   "source": [
    "seoul_df = pd.read_csv(\"datasets/seoul.csv\")\n",
    "seoul_df = seoul_df.drop(columns=[\"Unnamed: 0\", \"no\"])\n",
    "seoul_df.head()"
   ]
  },
  {
   "cell_type": "code",
   "execution_count": 479,
   "metadata": {},
   "outputs": [],
   "source": [
    "lines = ['01호선', '02호선', '03호선', '04호선', '05호선', '06호선', '07호선', '08호선', '09호선']\n",
    "# lines = np.unique(np.array(seoul_df[\"line\"]))\n",
    "output_dict = {}\n",
    "for line in lines:\n",
    "    line_df = seoul_df[seoul_df[\"line\"] == line]\n",
    "    output_dict[line] = {}\n",
    "    for i, station_data in line_df.iterrows():\n",
    "        line, name, y, x = station_data\n",
    "        output_dict[line][name] = {\"x\":x, \"y\":y}"
   ]
  },
  {
   "cell_type": "code",
   "execution_count": 480,
   "metadata": {},
   "outputs": [],
   "source": [
    "seoul_json = json.dumps(output_dict, indent=4)\n",
    "with open(\"final-json-datasets/seoul.json\", \"w\") as out:\n",
    "    out.write(seoul_json)"
   ]
  },
  {
   "attachments": {},
   "cell_type": "markdown",
   "metadata": {},
   "source": [
    "# Checking for intersections"
   ]
  },
  {
   "cell_type": "code",
   "execution_count": 468,
   "metadata": {},
   "outputs": [],
   "source": [
    "json_paths = os.listdir('final-json-datasets')\n",
    "data = []\n",
    "for json_path in json_paths:\n",
    "    json_file = open(os.path.join('final-json-datasets', json_path), \"r\")\n",
    "    data.append(json.load(json_file))"
   ]
  },
  {
   "cell_type": "code",
   "execution_count": 469,
   "metadata": {},
   "outputs": [
    {
     "name": "stdout",
     "output_type": "stream",
     "text": [
      "True\n",
      "True\n",
      "True\n",
      "True\n",
      "True\n",
      "True\n",
      "True\n"
     ]
    }
   ],
   "source": [
    "for train_dict in data:\n",
    "    stations_so_far = []\n",
    "    intersection_found = False\n",
    "    for stations in train_dict.values():\n",
    "        for station in stations:\n",
    "            if station in stations_so_far:\n",
    "                intersection_found = True\n",
    "                break\n",
    "            stations_so_far.append(station)\n",
    "    print(intersection_found)"
   ]
  }
 ],
 "metadata": {
  "kernelspec": {
   "display_name": "csc110",
   "language": "python",
   "name": "python3"
  },
  "language_info": {
   "codemirror_mode": {
    "name": "ipython",
    "version": 3
   },
   "file_extension": ".py",
   "mimetype": "text/x-python",
   "name": "python",
   "nbconvert_exporter": "python",
   "pygments_lexer": "ipython3",
   "version": "3.10.6"
  },
  "orig_nbformat": 4
 },
 "nbformat": 4,
 "nbformat_minor": 2
}
