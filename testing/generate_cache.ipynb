{
 "cells": [
  {
   "cell_type": "code",
   "execution_count": 1,
   "metadata": {},
   "outputs": [],
   "source": [
    "from graph import TransitSystem"
   ]
  },
  {
   "cell_type": "code",
   "execution_count": 2,
   "metadata": {},
   "outputs": [
    {
     "name": "stdout",
     "output_type": "stream",
     "text": [
      "---------- Toronto ----------\n",
      "Total number of stations: 64\n"
     ]
    },
    {
     "name": "stderr",
     "output_type": "stream",
     "text": [
      "                                                         \r"
     ]
    },
    {
     "name": "stdout",
     "output_type": "stream",
     "text": [
      "Total number of paths: 2016\n",
      "Total distance: 195.73306932914272\n",
      "Total edge length: 0.59787824991538\n",
      "Transit system score: 16.239\n",
      "---------- Tokyo ----------\n",
      "Total number of stations: 142\n"
     ]
    },
    {
     "name": "stderr",
     "output_type": "stream",
     "text": [
      "                                                           \r"
     ]
    },
    {
     "name": "stdout",
     "output_type": "stream",
     "text": [
      "Total number of paths: 10011\n",
      "Total distance: 1092.3825219418547\n",
      "Total edge length: 1.6861901203357565\n",
      "Transit system score: 6.471\n",
      "---------- Singapore ----------\n",
      "Total number of stations: 120\n"
     ]
    },
    {
     "name": "stderr",
     "output_type": "stream",
     "text": [
      "                                                           \r"
     ]
    },
    {
     "name": "stdout",
     "output_type": "stream",
     "text": [
      "Total number of paths: 7140\n",
      "Total distance: 892.2817720656876\n",
      "Total edge length: 1.4465449254005263\n",
      "Transit system score: 8.639\n",
      "---------- Seoul ----------\n",
      "Total number of stations: 388\n"
     ]
    },
    {
     "name": "stderr",
     "output_type": "stream",
     "text": [
      "                                                           \r"
     ]
    },
    {
     "name": "stdout",
     "output_type": "stream",
     "text": [
      "Total number of paths: 75078\n",
      "Total distance: 21637.588336169985\n",
      "Total edge length: 5.703074801865413\n",
      "Transit system score: 5.053\n",
      "---------- Delhi ----------\n",
      "Total number of stations: 221\n"
     ]
    },
    {
     "name": "stderr",
     "output_type": "stream",
     "text": [
      "                                                           "
     ]
    },
    {
     "name": "stdout",
     "output_type": "stream",
     "text": [
      "Total number of paths: 24310\n",
      "Total distance: 5286.980506558651\n",
      "Total edge length: 2.8980244512330824\n",
      "Transit system score: 7.504\n"
     ]
    },
    {
     "name": "stderr",
     "output_type": "stream",
     "text": [
      "\r"
     ]
    }
   ],
   "source": [
    "output_dicts = []\n",
    "\n",
    "for city in [\"Toronto\", \"Tokyo\", \"Singapore\", \"Seoul\", \"Delhi\"]:\n",
    "    test_city = TransitSystem(city)\n",
    "    test_city.load_from_json(f\"dataset/dataset/{city.lower()}.json\")\n",
    "    # test_city.temporary_render(name_size=10, show_name=True)\n",
    "    # shortest_path = test_city.find_shortest_path(\"Downsview\", \"Wilson\")\n",
    "    print(\"-\" * 10 + f\" {city} \" + \"-\" * 10)\n",
    "    print(f\"Total number of stations: {len(test_city._stations)}\")\n",
    "    test_city.compute_transit_system_score()\n",
    "    print(f\"Total number of paths: {test_city.transit_info_dict['total_paths']}\")\n",
    "    print(f\"Total distance: {test_city.transit_info_dict['total_distance']}\")\n",
    "    print(f\"Total edge length: {test_city.transit_info_dict['total_edge_length']}\")\n",
    "    print(f\"Transit system score: {round(test_city.transit_info_dict['transit_score'] * 100, 3)}\")\n",
    "\n",
    "    output_dicts.append(test_city.transit_info_dict)\n"
   ]
  },
  {
   "cell_type": "code",
   "execution_count": 5,
   "metadata": {},
   "outputs": [],
   "source": [
    "for d, city in zip(output_dicts, [\"Toronto\", \"Tokyo\", \"Singapore\", \"Seoul\", \"Delhi\"]):\n",
    "    d[\"city\"] = city"
   ]
  },
  {
   "cell_type": "code",
   "execution_count": 6,
   "metadata": {},
   "outputs": [
    {
     "data": {
      "text/plain": [
       "[{'total_num_stations': 64,\n",
       "  'total_paths': 2016,\n",
       "  'total_distance': 195.73306932914272,\n",
       "  'total_edge_length': 0.59787824991538,\n",
       "  'transit_score': 0.1623906140576764,\n",
       "  'city': 'Toronto'},\n",
       " {'total_num_stations': 142,\n",
       "  'total_paths': 10011,\n",
       "  'total_distance': 1092.3825219418547,\n",
       "  'total_edge_length': 1.6861901203357565,\n",
       "  'transit_score': 0.06471288191873222,\n",
       "  'city': 'Tokyo'},\n",
       " {'total_num_stations': 120,\n",
       "  'total_paths': 7140,\n",
       "  'total_distance': 892.2817720656876,\n",
       "  'total_edge_length': 1.4465449254005263,\n",
       "  'transit_score': 0.08639167278468006,\n",
       "  'city': 'Singapore'},\n",
       " {'total_num_stations': 388,\n",
       "  'total_paths': 75078,\n",
       "  'total_distance': 21637.588336169985,\n",
       "  'total_edge_length': 5.703074801865413,\n",
       "  'transit_score': 0.05053439737719914,\n",
       "  'city': 'Seoul'},\n",
       " {'total_num_stations': 221,\n",
       "  'total_paths': 24310,\n",
       "  'total_distance': 5286.980506558651,\n",
       "  'total_edge_length': 2.8980244512330824,\n",
       "  'transit_score': 0.0750448173481545,\n",
       "  'city': 'Delhi'}]"
      ]
     },
     "execution_count": 6,
     "metadata": {},
     "output_type": "execute_result"
    }
   ],
   "source": [
    "output_dicts"
   ]
  },
  {
   "cell_type": "code",
   "execution_count": 7,
   "metadata": {},
   "outputs": [],
   "source": [
    "import json\n",
    "with open('cached_transit_stats.json', \"w\") as f:\n",
    "    json.dump(output_dicts, f)"
   ]
  }
 ],
 "metadata": {
  "kernelspec": {
   "display_name": "ml",
   "language": "python",
   "name": "python3"
  },
  "language_info": {
   "codemirror_mode": {
    "name": "ipython",
    "version": 3
   },
   "file_extension": ".py",
   "mimetype": "text/x-python",
   "name": "python",
   "nbconvert_exporter": "python",
   "pygments_lexer": "ipython3",
   "version": "3.9.13"
  },
  "orig_nbformat": 4
 },
 "nbformat": 4,
 "nbformat_minor": 2
}
